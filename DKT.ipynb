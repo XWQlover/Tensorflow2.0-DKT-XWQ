{
  "nbformat": 4,
  "nbformat_minor": 0,
  "metadata": {
    "colab": {
      "name": "DKT.ipynb",
      "provenance": []
    },
    "kernelspec": {
      "name": "python3",
      "display_name": "Python 3"
    },
    "accelerator": "GPU"
  },
  "cells": [
    {
      "cell_type": "code",
      "metadata": {
        "id": "5KY2quC1ds32",
        "colab_type": "code",
        "colab": {}
      },
      "source": [
        "import pandas as pd\n",
        "import numpy as np\n",
        "import tensorflow as tf\n",
        "class AssismentData():\n",
        "    def __init__(self):\n",
        "        self.data = pd.read_csv(\"/content/drive/My Drive/DKT/2015_100_skill_builders_main_problems.csv\")\n",
        "\n",
        "        self.data.dropna()\n",
        "\n",
        "        self.data[\"user_id\"],_= pd.factorize(self.data[\"user_id\"])\n",
        "        self.data[\"sequence_id\"], _ = pd.factorize(self.data[\"sequence_id\"])\n",
        "\n",
        "        self.data = self.data.drop(columns=\"log_id\",axis=1)\n",
        "\n",
        "        self.data = self.data.groupby(\"user_id\").filter(lambda q:len(q)>1).copy()\n",
        "\n",
        "        self.seq = self.data.groupby('user_id').apply(\n",
        "            lambda r: (\n",
        "                r['user_id'].values[:],\n",
        "                r['sequence_id'].values[:],\n",
        "                r['correct'].values[:],\n",
        "            )\n",
        "        )\n",
        "\n",
        "    def datasetReturn(self,shuffle=None,batch_size=32,val_data=None):\n",
        "\n",
        "        dataset = tf.data.Dataset.from_generator(lambda :self.seq,output_types=(tf.float32,tf.float32,tf.float32))\n",
        "\n",
        "        if shuffle:\n",
        "            dataset = dataset.shuffle(buffer_size=shuffle)\n",
        "\n",
        "        # user_depth = self.data['user_id'].max() \n",
        "        # skill_depth =  self.data['sequence_id'].max() \n",
        "\n",
        "        # dataset = dataset.map(\n",
        "        #     # 一个预处理\n",
        "        #     lambda userid, skill, label: (\n",
        "        #         tf.one_hot(userid, depth=user_depth),\n",
        "        #         tf.one_hot(skill, depth=skill_depth),\n",
        "        #         label\n",
        "        #         )\n",
        "        # )\n",
        "        MASK_VALUE = -1.0\n",
        "        dataset = dataset.padded_batch(\n",
        "            batch_size=32,\n",
        "            padding_values=(MASK_VALUE , MASK_VALUE, MASK_VALUE),\n",
        "            padded_shapes=([None],[None],[None]),\n",
        "            drop_remainder=True\n",
        "        )\n",
        "        i = 0\n",
        "        for l in dataset.as_numpy_iterator():\n",
        "          i += 1\n",
        "\n",
        "        test_size = int(np.ceil(i*0.2))\n",
        "        train_size = i - test_size\n",
        "        val_size = int(np.ceil(i*0.2))\n",
        "        train_size = train_size - val_size\n",
        "   \n",
        "        test_data = dataset.take(test_size)\n",
        "        dataset = dataset.skip(test_size)\n",
        "\n",
        "        val_data = dataset.take(val_size)\n",
        "        dataset = dataset.skip(val_size)\n",
        "\n",
        "        # train_data = dataset.take(train_size)\n",
        "        \n",
        "\n",
        "        return dataset,test_data,val_data\n"
      ],
      "execution_count": 1,
      "outputs": []
    },
    {
      "cell_type": "code",
      "metadata": {
        "id": "a41QHQV1eBos",
        "colab_type": "code",
        "colab": {}
      },
      "source": [
        "\n",
        "ass = AssismentData()\n",
        "train_data,test_data,val_data = ass.datasetReturn()\n",
        "val_log = 'log/val'\n",
        "train_loss_log = 'log/train'\n",
        "summary_writer = tf.summary.create_file_writer(val_log)"
      ],
      "execution_count": 2,
      "outputs": []
    },
    {
      "cell_type": "code",
      "metadata": {
        "id": "v9eMOQxvphaJ",
        "colab_type": "code",
        "colab": {}
      },
      "source": [
        "class DKT(tf.keras.models.Model):\n",
        "    def __init__(self,total_user,total_skill,embedding_size):\n",
        "        super(DKT, self).__init__(name=\"DKTModel\")\n",
        "\n",
        "        self.mask = tf.keras.layers.Masking(mask_value=-1.0)\n",
        "\n",
        "        # 两个嵌入层\n",
        "        self.user_embedding = tf.keras.layers.Embedding(total_user,embedding_size)\n",
        "        self.skill_embedding = tf.keras.layers.Embedding(total_skill,embedding_size)\n",
        "        # RNN\n",
        "        self.rnn = tf.keras.layers.LSTM(units=64,return_sequences=True,dropout=0.3)\n",
        "\n",
        "        #dense\n",
        "        self.dense = tf.keras.layers.Dense(2, activation='sigmoid')\n",
        "\n",
        "        self.distribute = tf.keras.layers.TimeDistributed(self.dense)\n",
        "\n",
        "        self.softmax = tf.keras.layers.Softmax()\n",
        "        \n",
        "\n",
        "    def call(self,userid,skillid):\n",
        "        userid,skillid = tf.expand_dims(userid,axis=-1),tf.expand_dims(skillid,axis=-1)\n",
        "        userid = self.mask(userid)\n",
        "        skillid = self.mask(skillid)\n",
        "  \n",
        "        user_vector = self.user_embedding(userid)\n",
        "       \n",
        "        skill_vector = self.skill_embedding(skillid)\n",
        "\n",
        "        x = tf.concat([user_vector,skill_vector],axis=-1)\n",
        "\n",
        "        x = tf.squeeze(x,axis=-2)\n",
        "        x = self.rnn(x)\n",
        "\n",
        "        x = self.distribute(x)\n",
        "\n",
        "        y = self.softmax(x)\n",
        "\n",
        "        return y\n",
        "    \n"
      ],
      "execution_count": 3,
      "outputs": []
    },
    {
      "cell_type": "code",
      "metadata": {
        "id": "0_gJcSAPplBP",
        "colab_type": "code",
        "colab": {}
      },
      "source": [
        "\n",
        "dkt=DKT(ass.data[\"user_id\"].max()+1,ass.data[\"sequence_id\"].max()+1,64)\n",
        "AUC = tf.keras.metrics.AUC()\n",
        "VAUC = tf.keras.metrics.AUC()\n",
        "SCC = tf.keras.metrics.SparseCategoricalCrossentropy()\n",
        "optimizer = tf.keras.optimizers.Adam(learning_rate=0.005)\n",
        "def test_one_step(userid,skillid,label):\n",
        "  loss = dkt(userid,skillid)\n",
        "\n",
        "  label = tf.expand_dims(label,axis=-1)\n",
        "  \n",
        "  mask = 1. - tf.cast(tf.equal(label, -1.),label.dtype)\n",
        "  mask = tf.squeeze(mask)\n",
        "  label = tf.boolean_mask(label,mask=mask)\n",
        "  loss = tf.boolean_mask(loss,mask=mask)\n",
        "  VAUC.update_state(tf.one_hot(tf.squeeze(tf.cast(label,tf.int32),axis=-1),depth=2),loss)\n",
        "  \n",
        "def train_one_step(userid,skillid,label):\n",
        "  with tf.GradientTape() as tape:\n",
        "    loss = dkt(userid,skillid)\n",
        "    \n",
        "    label = tf.expand_dims(label,axis=-1)\n",
        "    \n",
        "    mask = 1. - tf.cast(tf.equal(label, -1.),label.dtype)\n",
        "    mask = tf.squeeze(mask)\n",
        "    \n",
        "    #print(mask)\n",
        "    label = tf.boolean_mask(label,mask=mask)\n",
        "    loss = tf.boolean_mask(loss,mask=mask)\n",
        "    #print(tf.one_hot(tf.squeeze(tf.cast(label,tf.int32),axis=-1),depth=2))\n",
        "    #print(label*mask)\n",
        "    # print(loss)\n",
        "    # print(label)\n",
        "    # print(label*mask)\n",
        "    AUC.update_state(tf.one_hot(tf.squeeze(tf.cast(label,tf.int32),axis=-1),depth=2),loss)\n",
        "    SCC.update_state(label,loss)\n",
        "    # print(loss.shape)\n",
        "    loss = tf.keras.losses.sparse_categorical_crossentropy(label,loss)\n",
        "    # print(loss.shape)\n",
        "    # print(tf.squeeze(mask))\n",
        "    loss = tf.reduce_sum(loss)\n",
        "\n",
        "    gradients = tape.gradient(loss,dkt.trainable_variables)\n",
        "    # 反向传播，自动微分计算\n",
        "    optimizer.apply_gradients(zip(gradients,dkt.trainable_variables))\n",
        "  "
      ],
      "execution_count": 4,
      "outputs": []
    },
    {
      "cell_type": "code",
      "metadata": {
        "id": "JiuR0ibCsQtb",
        "colab_type": "code",
        "colab": {
          "base_uri": "https://localhost:8080/",
          "height": 119
        },
        "outputId": "833bf88c-4d01-4b83-977c-01bcf05b9a08"
      },
      "source": [
        "pred =tf.convert_to_tensor([[0.0,0.0],[0.0,0.0]])\n",
        "label=tf.convert_to_tensor([0,0])\n",
        "print(label)\n",
        "print(pred)\n",
        "loss=tf.keras.losses.sparse_categorical_crossentropy(label,pred)\n",
        "# pred = tf.convert_to_tensor([[0.9, 0.05, 0.05], [0.5, 0.89, 0.6], [2.05, 0.01, 0.94]])\n",
        "# label = tf.convert_to_tensor([2, 1, 2])\n",
        "# loss = tf.keras.losses.sparse_categorical_crossentropy(label, pred)\n",
        "print(loss)\n",
        "pred =tf.convert_to_tensor([[0.0,0.0],[0.0,0.0]])\n",
        "label=tf.convert_to_tensor([[0,0],[0,0]])\n",
        "loss = tf.keras.metrics.AUC()(label,pred)\n",
        "print(loss)"
      ],
      "execution_count": null,
      "outputs": [
        {
          "output_type": "stream",
          "text": [
            "tf.Tensor([0 0], shape=(2,), dtype=int32)\n",
            "tf.Tensor(\n",
            "[[0. 0.]\n",
            " [0. 0.]], shape=(2, 2), dtype=float32)\n",
            "tf.Tensor([0.6931472 0.6931472], shape=(2,), dtype=float32)\n",
            "tf.Tensor(0.0, shape=(), dtype=float32)\n"
          ],
          "name": "stdout"
        }
      ]
    },
    {
      "cell_type": "code",
      "metadata": {
        "id": "VTzWiew3rE43",
        "colab_type": "code",
        "colab": {}
      },
      "source": [
        "i = 0\n",
        "for u,v,l in test_data.take(1).as_numpy_iterator():\n",
        "  print(dkt(u,v))\n",
        "  print(l)\n",
        "  print(tf.one_hot(l,depth=2))\n",
        "print(i)\n",
        "for u,v,l in val_data.as_numpy_iterator():\n",
        "  i +=1\n",
        "print(i)"
      ],
      "execution_count": null,
      "outputs": []
    },
    {
      "cell_type": "code",
      "metadata": {
        "id": "P1iaTQvPjHSe",
        "colab_type": "code",
        "colab": {
          "base_uri": "https://localhost:8080/",
          "height": 187
        },
        "outputId": "4a03e03b-3ee7-4c33-8cde-042f0886ac29"
      },
      "source": [
        "for epoch in range(10):\n",
        "  # train_data = train_data.shuffle(32)\n",
        "  AUC.reset_states()\n",
        "  VAUC.reset_states()\n",
        "  SCC.reset_states()\n",
        "  for u,v,l in train_data.as_numpy_iterator():\n",
        "    train_one_step(u,v,l)\n",
        "\n",
        "  for u,v,l in val_data.as_numpy_iterator():\n",
        "    test_one_step(u,v,l)\n",
        "\n",
        "  with summary_writer.as_default():\n",
        "    tf.summary.scalar('train_auc',AUC.result(),step=epoch)\n",
        "    tf.summary.scalar('val_auc',VAUC.result(),step=epoch)\n",
        "\n",
        "  print(SCC.result(),AUC.result(),VAUC.result())"
      ],
      "execution_count": 5,
      "outputs": [
        {
          "output_type": "stream",
          "text": [
            "tf.Tensor(0.597481, shape=(), dtype=float32) tf.Tensor(0.7346457, shape=(), dtype=float32) tf.Tensor(0.7458189, shape=(), dtype=float32)\n",
            "tf.Tensor(0.57582974, shape=(), dtype=float32) tf.Tensor(0.77768105, shape=(), dtype=float32) tf.Tensor(0.75025725, shape=(), dtype=float32)\n",
            "tf.Tensor(0.55926365, shape=(), dtype=float32) tf.Tensor(0.7956676, shape=(), dtype=float32) tf.Tensor(0.7369466, shape=(), dtype=float32)\n",
            "tf.Tensor(0.5514222, shape=(), dtype=float32) tf.Tensor(0.80268157, shape=(), dtype=float32) tf.Tensor(0.7418804, shape=(), dtype=float32)\n",
            "tf.Tensor(0.54437804, shape=(), dtype=float32) tf.Tensor(0.8093544, shape=(), dtype=float32) tf.Tensor(0.7313023, shape=(), dtype=float32)\n",
            "tf.Tensor(0.5380892, shape=(), dtype=float32) tf.Tensor(0.8146082, shape=(), dtype=float32) tf.Tensor(0.7367939, shape=(), dtype=float32)\n",
            "tf.Tensor(0.53364533, shape=(), dtype=float32) tf.Tensor(0.8184457, shape=(), dtype=float32) tf.Tensor(0.73359203, shape=(), dtype=float32)\n",
            "tf.Tensor(0.529352, shape=(), dtype=float32) tf.Tensor(0.82192874, shape=(), dtype=float32) tf.Tensor(0.7336474, shape=(), dtype=float32)\n",
            "tf.Tensor(0.52524316, shape=(), dtype=float32) tf.Tensor(0.8244815, shape=(), dtype=float32) tf.Tensor(0.7279957, shape=(), dtype=float32)\n",
            "tf.Tensor(0.5219732, shape=(), dtype=float32) tf.Tensor(0.82702714, shape=(), dtype=float32) tf.Tensor(0.7266353, shape=(), dtype=float32)\n"
          ],
          "name": "stdout"
        }
      ]
    },
    {
      "cell_type": "code",
      "metadata": {
        "id": "8cy-r6pViuCR",
        "colab_type": "code",
        "colab": {
          "base_uri": "https://localhost:8080/",
          "height": 34
        },
        "outputId": "f5bd6d9d-cdce-43ea-a0cb-d5bb716ca958"
      },
      "source": [
        "VAUC.reset_states()\n",
        "for u,v,l in test_data.as_numpy_iterator():\n",
        "  test_one_step(u,v,l)\n",
        "print(VAUC.result())"
      ],
      "execution_count": 6,
      "outputs": [
        {
          "output_type": "stream",
          "text": [
            "tf.Tensor(0.73262596, shape=(), dtype=float32)\n"
          ],
          "name": "stdout"
        }
      ]
    },
    {
      "cell_type": "code",
      "metadata": {
        "id": "y_OpB49q2MPm",
        "colab_type": "code",
        "colab": {}
      },
      "source": [
        "user_embedding = dkt.user_embedding.get_weights()[0]\n",
        "f = open(\"/content/embedding.csv\",\"w\")\n",
        "np.savetxt(f,user_embedding,delimiter='\\t')"
      ],
      "execution_count": 9,
      "outputs": []
    }
  ]
}